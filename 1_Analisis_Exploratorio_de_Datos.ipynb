{
 "cells": [
  {
   "cell_type": "markdown",
   "id": "bc0b19e4",
   "metadata": {},
   "source": [
    "# ANÁLISIS EXPLORATORIO DE DATOS\n",
    "\n",
    "<br>\n",
    "\n",
    "En este apartado se hacen algunos análisis simples para entender un poco más el dato, como puede ser:\n",
    " * Primer contacto con el datos: Visualizcion de las tablas\n",
    " * Dimension de los dataframes\n",
    " * Comprobación de datos faltantes\n",
    " * Visualizacion de la distribucion de los datos para el dataframe concreto\n",
    " * "
   ]
  },
  {
   "cell_type": "markdown",
   "id": "7bdc8774",
   "metadata": {},
   "source": [
    "# 1. Creación de funciones"
   ]
  },
  {
   "cell_type": "code",
   "execution_count": 1,
   "id": "569b30e0",
   "metadata": {},
   "outputs": [],
   "source": [
    "import pandas as pd\n",
    "import numpy as np\n",
    "import seaborn as sns\n",
    "import matplotlib.pyplot as plt\n",
    "import plotly.express as px\n",
    "\n",
    "# Visulaizar datos faltantes\n",
    "\n",
    "def missing_values_table(df):\n",
    "    mis_val = df.isnull().sum()\n",
    "    mis_val_percent = 100 * df.isnull().sum() / len(df)\n",
    "    mis_val_table = pd.concat([mis_val, mis_val_percent], axis=1)\n",
    "    mis_val_table_ren_columns = mis_val_table.rename(\n",
    "    columns = {0 : 'Valores faltantes', 1 : '% del total de valores'})\n",
    "    mis_val_table_ren_columns = mis_val_table_ren_columns[\n",
    "        mis_val_table_ren_columns.iloc[:,1] != 0].sort_values(\n",
    "    '% del total de valores', ascending=False).round(1)\n",
    "    print (\"El dataframe seleccionado tiene \" + str(df.shape[1]) + \" columnas.\\n\"      \n",
    "        \"Existen \" + str(mis_val_table_ren_columns.shape[0]) +\n",
    "            \" columnas que tienen valores perdidos.\")\n",
    "    return mis_val_table_ren_columns\n",
    "\n",
    "\n",
    "\n",
    "def Plot_missing_data(df):\n",
    "    sns.displot(\n",
    "        data = df.isna().melt(value_name=\"missing\"),\n",
    "        y = \"variable\",\n",
    "        hue = \"missing\",\n",
    "        multiple = \"fill\",\n",
    "        aspect = 0.9)\n",
    "    \n",
    "    print('\\nAnálisis de datos faltantes:')\n",
    "    print('_' * 30, '\\n')\n",
    "    print(missing_values_table(df))\n",
    "    print('_' * 30, '\\n')\n",
    "    print(df.info())\n",
    "    print('_' * 30, \"\"\"\\n Este gráfico se muestra en tan por uno el % de valores perdidos.\n",
    "    1. Color azul: datos no flatnates. \n",
    "    2. Color Naranja: Datos faltantes\"\"\")\n"
   ]
  },
  {
   "cell_type": "markdown",
   "id": "77410212",
   "metadata": {},
   "source": [
    "# 2. Lectura de ficheros"
   ]
  },
  {
   "cell_type": "code",
   "execution_count": 2,
   "id": "ac7bc142",
   "metadata": {},
   "outputs": [],
   "source": [
    "item_features = pd.read_csv('item_features.csv')\n",
    "train_purchases = pd.read_csv('train_purchases.csv')\n",
    "test_final_sessions = pd.read_csv('test_final_sessions.csv')\n",
    "train_sessions = pd.read_csv('train_sessions.csv')"
   ]
  },
  {
   "cell_type": "markdown",
   "id": "1e20a984",
   "metadata": {},
   "source": [
    "# 3. Exploracion de los datasets"
   ]
  },
  {
   "cell_type": "markdown",
   "id": "7b91371b",
   "metadata": {},
   "source": [
    "## 3.1 Fichero `item_features.csv`"
   ]
  },
  {
   "cell_type": "code",
   "execution_count": 3,
   "id": "9755e66c",
   "metadata": {
    "scrolled": false
   },
   "outputs": [
    {
     "data": {
      "text/html": [
       "<div>\n",
       "<style scoped>\n",
       "    .dataframe tbody tr th:only-of-type {\n",
       "        vertical-align: middle;\n",
       "    }\n",
       "\n",
       "    .dataframe tbody tr th {\n",
       "        vertical-align: top;\n",
       "    }\n",
       "\n",
       "    .dataframe thead th {\n",
       "        text-align: right;\n",
       "    }\n",
       "</style>\n",
       "<table border=\"1\" class=\"dataframe\">\n",
       "  <thead>\n",
       "    <tr style=\"text-align: right;\">\n",
       "      <th></th>\n",
       "      <th>item_id</th>\n",
       "      <th>feature_category_id</th>\n",
       "      <th>feature_value_id</th>\n",
       "    </tr>\n",
       "  </thead>\n",
       "  <tbody>\n",
       "    <tr>\n",
       "      <th>0</th>\n",
       "      <td>2</td>\n",
       "      <td>56</td>\n",
       "      <td>365</td>\n",
       "    </tr>\n",
       "    <tr>\n",
       "      <th>1</th>\n",
       "      <td>2</td>\n",
       "      <td>62</td>\n",
       "      <td>801</td>\n",
       "    </tr>\n",
       "    <tr>\n",
       "      <th>2</th>\n",
       "      <td>2</td>\n",
       "      <td>68</td>\n",
       "      <td>351</td>\n",
       "    </tr>\n",
       "    <tr>\n",
       "      <th>3</th>\n",
       "      <td>2</td>\n",
       "      <td>33</td>\n",
       "      <td>802</td>\n",
       "    </tr>\n",
       "    <tr>\n",
       "      <th>4</th>\n",
       "      <td>2</td>\n",
       "      <td>72</td>\n",
       "      <td>75</td>\n",
       "    </tr>\n",
       "  </tbody>\n",
       "</table>\n",
       "</div>"
      ],
      "text/plain": [
       "   item_id  feature_category_id  feature_value_id\n",
       "0        2                   56               365\n",
       "1        2                   62               801\n",
       "2        2                   68               351\n",
       "3        2                   33               802\n",
       "4        2                   72                75"
      ]
     },
     "metadata": {},
     "output_type": "display_data"
    }
   ],
   "source": [
    "display(item_features.head(5))\n",
    "Plot_missing_data(item_features)"
   ]
  },
  {
   "cell_type": "markdown",
   "id": "879ec4e7",
   "metadata": {},
   "source": [
    "![im1](https://raw.githubusercontent.com/LucioBolatti/RecSys22-UB/gh-pages/Images/Image_misingdata_item_features.png)"
   ]
  },
  {
   "cell_type": "markdown",
   "id": "abe55480",
   "metadata": {},
   "source": [
    "Como podemos ver en este gráfico y en la tabla de estadísticos de valores perdidos, esta dataset no contiene valores perdidos, por lo no hace falta realizar umputacion de valores faltantes. Veremos que pasa exactamente lo mismo para los otros datasets"
   ]
  },
  {
   "cell_type": "code",
   "execution_count": null,
   "id": "40c6e9de",
   "metadata": {
    "scrolled": false
   },
   "outputs": [],
   "source": [
    "fig = px.histogram(item_features, x = \"feature_category_id\")\n",
    "fig.show()"
   ]
  },
  {
   "cell_type": "markdown",
   "id": "4311c3a6",
   "metadata": {},
   "source": [
    "![im2](https://raw.githubusercontent.com/LucioBolatti/RecSys22-UB/gh-pages/Images/Image_Dist_item_features.png)"
   ]
  },
  {
   "cell_type": "markdown",
   "id": "378e30ab",
   "metadata": {},
   "source": [
    "Con este histograma podemos ver que hay algunas caracteristicas que sale muy pocas veces en los items. Por ejemplo:\n",
    "* La catagoria 47 aparece en 23.691 items, por lo que parece muchas mas veces que las categoria 1, que aparece solo 941 veces. En este sentido, esta ultima categoria parce clasificar/determinar mejor una prenda (a priori) que las categoria 47, que es mas común.\n",
    "* Se puede ver categoria que aparecen muy poco y catgorias que aparecen bastante en los items/prendas"
   ]
  },
  {
   "cell_type": "markdown",
   "id": "4a576cab",
   "metadata": {},
   "source": [
    "## 3.2 Fichero `train_purchases.csv`"
   ]
  },
  {
   "cell_type": "code",
   "execution_count": 16,
   "id": "5b9b958e",
   "metadata": {
    "scrolled": false
   },
   "outputs": [
    {
     "data": {
      "text/html": [
       "<div>\n",
       "<style scoped>\n",
       "    .dataframe tbody tr th:only-of-type {\n",
       "        vertical-align: middle;\n",
       "    }\n",
       "\n",
       "    .dataframe tbody tr th {\n",
       "        vertical-align: top;\n",
       "    }\n",
       "\n",
       "    .dataframe thead th {\n",
       "        text-align: right;\n",
       "    }\n",
       "</style>\n",
       "<table border=\"1\" class=\"dataframe\">\n",
       "  <thead>\n",
       "    <tr style=\"text-align: right;\">\n",
       "      <th></th>\n",
       "      <th>item_id</th>\n",
       "      <th>feature_category_id</th>\n",
       "      <th>feature_value_id</th>\n",
       "    </tr>\n",
       "  </thead>\n",
       "  <tbody>\n",
       "    <tr>\n",
       "      <th>0</th>\n",
       "      <td>2</td>\n",
       "      <td>56</td>\n",
       "      <td>365</td>\n",
       "    </tr>\n",
       "    <tr>\n",
       "      <th>1</th>\n",
       "      <td>2</td>\n",
       "      <td>62</td>\n",
       "      <td>801</td>\n",
       "    </tr>\n",
       "    <tr>\n",
       "      <th>2</th>\n",
       "      <td>2</td>\n",
       "      <td>68</td>\n",
       "      <td>351</td>\n",
       "    </tr>\n",
       "    <tr>\n",
       "      <th>3</th>\n",
       "      <td>2</td>\n",
       "      <td>33</td>\n",
       "      <td>802</td>\n",
       "    </tr>\n",
       "    <tr>\n",
       "      <th>4</th>\n",
       "      <td>2</td>\n",
       "      <td>72</td>\n",
       "      <td>75</td>\n",
       "    </tr>\n",
       "  </tbody>\n",
       "</table>\n",
       "</div>"
      ],
      "text/plain": [
       "   item_id  feature_category_id  feature_value_id\n",
       "0        2                   56               365\n",
       "1        2                   62               801\n",
       "2        2                   68               351\n",
       "3        2                   33               802\n",
       "4        2                   72                75"
      ]
     },
     "metadata": {},
     "output_type": "display_data"
    }
   ],
   "source": [
    "display(item_features.head(5))\n",
    "Plot_missing_data(item_features)"
   ]
  },
  {
   "cell_type": "markdown",
   "id": "c1f906e6",
   "metadata": {},
   "source": [
    "![im3](https://raw.githubusercontent.com/LucioBolatti/RecSys22-UB/gh-pages/Images/Image_misingdata_train_purchases.png)"
   ]
  },
  {
   "cell_type": "code",
   "execution_count": null,
   "id": "4e1471db",
   "metadata": {},
   "outputs": [],
   "source": [
    "train_purchases['datetime'] = pd.to_datetime(train_purchases['date'])\n",
    "\n",
    "\n",
    "train_purchases['Franja'] =  np.where(  (train_purchases.datetime.dt.hour>=0) \n",
    "                                      & (train_purchases.datetime.dt.hour<7), 'madrugada',  \n",
    "                             np.where(   (train_purchases.datetime.dt.hour>=7) \n",
    "                                      & (train_purchases.datetime.dt.hour<12), 'día',\n",
    "                             np.where(  (train_purchases.datetime.dt.hour>=12) \n",
    "                                     & (train_purchases.datetime.dt.hour<18), 'tarde',\n",
    "                                     'noche')\n",
    "                                    ))\n",
    "\n",
    "fig = px.histogram(train_purchases, x = \"Franja\")\n",
    "fig.show()"
   ]
  },
  {
   "cell_type": "markdown",
   "id": "4905b9b5",
   "metadata": {},
   "source": [
    "![im4](https://raw.githubusercontent.com/LucioBolatti/RecSys22-UB/gh-pages/Images/Image_dist_train_purchases.png)"
   ]
  },
  {
   "cell_type": "markdown",
   "id": "9bc28e37",
   "metadata": {},
   "source": [
    "Como podemos ver y a modo informatvo, los usuarios compran más cuando aparentemente estan en casa y disfrutan de su tiempo libre. "
   ]
  },
  {
   "cell_type": "markdown",
   "id": "854dbbf2",
   "metadata": {},
   "source": [
    "## 3.3 Fichero `test_final_sessions.csv`"
   ]
  },
  {
   "cell_type": "code",
   "execution_count": 17,
   "id": "77d5afcc",
   "metadata": {
    "scrolled": true
   },
   "outputs": [
    {
     "data": {
      "text/html": [
       "<div>\n",
       "<style scoped>\n",
       "    .dataframe tbody tr th:only-of-type {\n",
       "        vertical-align: middle;\n",
       "    }\n",
       "\n",
       "    .dataframe tbody tr th {\n",
       "        vertical-align: top;\n",
       "    }\n",
       "\n",
       "    .dataframe thead th {\n",
       "        text-align: right;\n",
       "    }\n",
       "</style>\n",
       "<table border=\"1\" class=\"dataframe\">\n",
       "  <thead>\n",
       "    <tr style=\"text-align: right;\">\n",
       "      <th></th>\n",
       "      <th>session_id</th>\n",
       "      <th>item_id</th>\n",
       "      <th>date</th>\n",
       "      <th>datetime</th>\n",
       "      <th>Franja</th>\n",
       "      <th>Type</th>\n",
       "    </tr>\n",
       "  </thead>\n",
       "  <tbody>\n",
       "    <tr>\n",
       "      <th>0</th>\n",
       "      <td>61</td>\n",
       "      <td>27088</td>\n",
       "      <td>2021-06-01 08:12:39.664</td>\n",
       "      <td>2021-06-01 08:12:39.664</td>\n",
       "      <td>día</td>\n",
       "      <td>Test</td>\n",
       "    </tr>\n",
       "    <tr>\n",
       "      <th>1</th>\n",
       "      <td>96</td>\n",
       "      <td>11693</td>\n",
       "      <td>2021-06-19 17:48:05.227</td>\n",
       "      <td>2021-06-19 17:48:05.227</td>\n",
       "      <td>tarde</td>\n",
       "      <td>Test</td>\n",
       "    </tr>\n",
       "    <tr>\n",
       "      <th>2</th>\n",
       "      <td>96</td>\n",
       "      <td>18298</td>\n",
       "      <td>2021-06-19 17:49:08.589</td>\n",
       "      <td>2021-06-19 17:49:08.589</td>\n",
       "      <td>tarde</td>\n",
       "      <td>Test</td>\n",
       "    </tr>\n",
       "    <tr>\n",
       "      <th>3</th>\n",
       "      <td>96</td>\n",
       "      <td>4738</td>\n",
       "      <td>2021-06-19 17:49:15.838</td>\n",
       "      <td>2021-06-19 17:49:15.838</td>\n",
       "      <td>tarde</td>\n",
       "      <td>Test</td>\n",
       "    </tr>\n",
       "    <tr>\n",
       "      <th>4</th>\n",
       "      <td>96</td>\n",
       "      <td>495</td>\n",
       "      <td>2021-06-19 17:49:20.88</td>\n",
       "      <td>2021-06-19 17:49:20.880</td>\n",
       "      <td>tarde</td>\n",
       "      <td>Test</td>\n",
       "    </tr>\n",
       "  </tbody>\n",
       "</table>\n",
       "</div>"
      ],
      "text/plain": [
       "   session_id  item_id                     date                datetime  \\\n",
       "0          61    27088  2021-06-01 08:12:39.664 2021-06-01 08:12:39.664   \n",
       "1          96    11693  2021-06-19 17:48:05.227 2021-06-19 17:48:05.227   \n",
       "2          96    18298  2021-06-19 17:49:08.589 2021-06-19 17:49:08.589   \n",
       "3          96     4738  2021-06-19 17:49:15.838 2021-06-19 17:49:15.838   \n",
       "4          96      495   2021-06-19 17:49:20.88 2021-06-19 17:49:20.880   \n",
       "\n",
       "  Franja  Type  \n",
       "0    día  Test  \n",
       "1  tarde  Test  \n",
       "2  tarde  Test  \n",
       "3  tarde  Test  \n",
       "4  tarde  Test  "
      ]
     },
     "metadata": {},
     "output_type": "display_data"
    }
   ],
   "source": [
    "display(test_final_sessions.head(5))\n",
    "Plot_missing_data(test_final_sessions)"
   ]
  },
  {
   "cell_type": "markdown",
   "id": "9e80b9bd",
   "metadata": {},
   "source": [
    "![im5](https://raw.githubusercontent.com/LucioBolatti/RecSys22-UB/gh-pages/Images/Image_misingdata_test_final_sessions.png)"
   ]
  },
  {
   "cell_type": "code",
   "execution_count": null,
   "id": "631aca04",
   "metadata": {
    "scrolled": false
   },
   "outputs": [],
   "source": [
    "test_final_sessions['datetime'] = pd.to_datetime(test_final_sessions['date'])\n",
    "\n",
    "\n",
    "test_final_sessions['Franja'] =  np.where(  (test_final_sessions.datetime.dt.hour>=0) \n",
    "                                          & (test_final_sessions.datetime.dt.hour<7), 'madrugada',  \n",
    "                                 np.where(  (test_final_sessions.datetime.dt.hour>=7) \n",
    "                                          & (test_final_sessions.datetime.dt.hour<12), 'día',\n",
    "                                 np.where(  (test_final_sessions.datetime.dt.hour>=12) \n",
    "                                          & (test_final_sessions.datetime.dt.hour<18), 'tarde',\n",
    "                                     'noche')\n",
    "                                    ))\n",
    "\n",
    "\n",
    "fig = px.histogram(test_final_sessions, x = \"Franja\")\n",
    "fig.show()"
   ]
  },
  {
   "cell_type": "markdown",
   "id": "64df1078",
   "metadata": {},
   "source": [
    "![im6](https://raw.githubusercontent.com/LucioBolatti/RecSys22-UB/gh-pages/Images/Image_dist_test_final_sessions.png)"
   ]
  },
  {
   "cell_type": "markdown",
   "id": "23f684a7",
   "metadata": {},
   "source": [
    "Aquí, como podemos ver, las franjas de visualozacion de items parace se asemeja a las compras, por lo que los entre la visualizacion de items en una sesion y la compra de uno de ellos no dista mucho en el tiempo"
   ]
  },
  {
   "cell_type": "markdown",
   "id": "f28880e9",
   "metadata": {},
   "source": [
    "## 3.4 Fichero `train_sessions.csv`"
   ]
  },
  {
   "cell_type": "code",
   "execution_count": 21,
   "id": "6fccc4bc",
   "metadata": {
    "scrolled": true
   },
   "outputs": [
    {
     "data": {
      "text/html": [
       "<div>\n",
       "<style scoped>\n",
       "    .dataframe tbody tr th:only-of-type {\n",
       "        vertical-align: middle;\n",
       "    }\n",
       "\n",
       "    .dataframe tbody tr th {\n",
       "        vertical-align: top;\n",
       "    }\n",
       "\n",
       "    .dataframe thead th {\n",
       "        text-align: right;\n",
       "    }\n",
       "</style>\n",
       "<table border=\"1\" class=\"dataframe\">\n",
       "  <thead>\n",
       "    <tr style=\"text-align: right;\">\n",
       "      <th></th>\n",
       "      <th>session_id</th>\n",
       "      <th>item_id</th>\n",
       "      <th>date</th>\n",
       "      <th>datetime</th>\n",
       "      <th>Franja</th>\n",
       "      <th>Type</th>\n",
       "    </tr>\n",
       "  </thead>\n",
       "  <tbody>\n",
       "    <tr>\n",
       "      <th>0</th>\n",
       "      <td>3</td>\n",
       "      <td>9655</td>\n",
       "      <td>2020-12-18 21:25:00.373</td>\n",
       "      <td>2020-12-18 21:25:00.373</td>\n",
       "      <td>noche</td>\n",
       "      <td>Train</td>\n",
       "    </tr>\n",
       "    <tr>\n",
       "      <th>1</th>\n",
       "      <td>3</td>\n",
       "      <td>9655</td>\n",
       "      <td>2020-12-18 21:19:48.093</td>\n",
       "      <td>2020-12-18 21:19:48.093</td>\n",
       "      <td>noche</td>\n",
       "      <td>Train</td>\n",
       "    </tr>\n",
       "    <tr>\n",
       "      <th>2</th>\n",
       "      <td>13</td>\n",
       "      <td>15654</td>\n",
       "      <td>2020-03-13 19:35:27.136</td>\n",
       "      <td>2020-03-13 19:35:27.136</td>\n",
       "      <td>noche</td>\n",
       "      <td>Train</td>\n",
       "    </tr>\n",
       "    <tr>\n",
       "      <th>3</th>\n",
       "      <td>18</td>\n",
       "      <td>18316</td>\n",
       "      <td>2020-08-26 19:18:30.833</td>\n",
       "      <td>2020-08-26 19:18:30.833</td>\n",
       "      <td>noche</td>\n",
       "      <td>Train</td>\n",
       "    </tr>\n",
       "    <tr>\n",
       "      <th>4</th>\n",
       "      <td>18</td>\n",
       "      <td>2507</td>\n",
       "      <td>2020-08-26 19:16:31.211</td>\n",
       "      <td>2020-08-26 19:16:31.211</td>\n",
       "      <td>noche</td>\n",
       "      <td>Train</td>\n",
       "    </tr>\n",
       "  </tbody>\n",
       "</table>\n",
       "</div>"
      ],
      "text/plain": [
       "   session_id  item_id                     date                datetime  \\\n",
       "0           3     9655  2020-12-18 21:25:00.373 2020-12-18 21:25:00.373   \n",
       "1           3     9655  2020-12-18 21:19:48.093 2020-12-18 21:19:48.093   \n",
       "2          13    15654  2020-03-13 19:35:27.136 2020-03-13 19:35:27.136   \n",
       "3          18    18316  2020-08-26 19:18:30.833 2020-08-26 19:18:30.833   \n",
       "4          18     2507  2020-08-26 19:16:31.211 2020-08-26 19:16:31.211   \n",
       "\n",
       "  Franja   Type  \n",
       "0  noche  Train  \n",
       "1  noche  Train  \n",
       "2  noche  Train  \n",
       "3  noche  Train  \n",
       "4  noche  Train  "
      ]
     },
     "metadata": {},
     "output_type": "display_data"
    }
   ],
   "source": [
    "display(train_sessions.head(5))\n",
    "Plot_missing_data(train_sessions)"
   ]
  },
  {
   "cell_type": "markdown",
   "id": "56c478d1",
   "metadata": {},
   "source": [
    "![im7](https://raw.githubusercontent.com/LucioBolatti/RecSys22-UB/gh-pages/Images/Image_misingdata_test_final_sessions.png)"
   ]
  },
  {
   "cell_type": "markdown",
   "id": "06ef0a1f",
   "metadata": {},
   "source": [
    "![im6](https://raw.githubusercontent.com/LucioBolatti/RecSys22-UB/gh-pages/Images/Image_dist_test_train_sessions.png)"
   ]
  },
  {
   "cell_type": "code",
   "execution_count": null,
   "id": "26ca2b0b",
   "metadata": {},
   "outputs": [],
   "source": [
    "train_sessions['datetime'] = pd.to_datetime(train_sessions['date'])\n",
    "\n",
    "\n",
    "train_sessions['Franja'] =  np.where(   (train_sessions.datetime.dt.hour>=0) \n",
    "                                      & (train_sessions.datetime.dt.hour<7), 'madrugada',  \n",
    "                            np.where(   (train_sessions.datetime.dt.hour>=7) \n",
    "                                      & (train_sessions.datetime.dt.hour<12), 'día',\n",
    "                            np.where(   (train_sessions.datetime.dt.hour>=12) \n",
    "                                      & (train_sessions.datetime.dt.hour<18), 'tarde',\n",
    "                                     'noche')\n",
    "                                    ))\n",
    "\n",
    "\n",
    "fig = px.histogram(train_sessions, x = \"Franja\")\n",
    "fig.show()"
   ]
  },
  {
   "cell_type": "markdown",
   "id": "a5feabb1",
   "metadata": {},
   "source": [
    "![im8](https://raw.githubusercontent.com/LucioBolatti/RecSys22-UB/gh-pages/Images/Image_dist_test_final_sessions.png)"
   ]
  },
  {
   "cell_type": "markdown",
   "id": "f2c167a4",
   "metadata": {},
   "source": [
    "Aquí, como podemos sacar las mismas conclusiones que antes."
   ]
  },
  {
   "cell_type": "markdown",
   "id": "5656b795",
   "metadata": {},
   "source": [
    "### Dataset completo de Session\n",
    "\n",
    "Con el data set completo de session (tran + test) sacamos el porcentaje de datos sobre el total para la validacion"
   ]
  },
  {
   "cell_type": "code",
   "execution_count": null,
   "id": "bbcbc712",
   "metadata": {
    "scrolled": false
   },
   "outputs": [],
   "source": [
    "train_sessions['Type'] = 'Train'\n",
    "test_final_sessions['Type'] = 'Test'\n",
    "\n",
    "full_sessions = train_sessions.append(test_final_sessions)\n",
    "full_sessions['cnt'] = 1\n",
    "\n",
    "fig = px.pie(full_sessions, values='cnt', names='Type')\n",
    "fig.show()"
   ]
  },
  {
   "cell_type": "markdown",
   "id": "4e942119",
   "metadata": {},
   "source": [
    "![im9](https://raw.githubusercontent.com/LucioBolatti/RecSys22-UB/gh-pages/Images/Image_piechart_fulldata.png)"
   ]
  },
  {
   "cell_type": "code",
   "execution_count": null,
   "id": "3a83e52b",
   "metadata": {},
   "outputs": [],
   "source": [
    "fig = px.histogram(full_sessions, x = \"Franja\")\n",
    "fig.show()"
   ]
  },
  {
   "cell_type": "markdown",
   "id": "c779db38",
   "metadata": {},
   "source": [
    "![im10](https://raw.githubusercontent.com/LucioBolatti/RecSys22-UB/gh-pages/Images/Image_dist_fulldata_Franja.png)"
   ]
  },
  {
   "cell_type": "code",
   "execution_count": 12,
   "id": "6e3efa05",
   "metadata": {},
   "outputs": [
    {
     "data": {
      "text/plain": [
       "(4969958, 7)"
      ]
     },
     "execution_count": 12,
     "metadata": {},
     "output_type": "execute_result"
    }
   ],
   "source": [
    "full_sessions.shape"
   ]
  },
  {
   "cell_type": "code",
   "execution_count": null,
   "id": "cb19f7f7",
   "metadata": {
    "scrolled": false
   },
   "outputs": [],
   "source": [
    "fig = px.histogram(full_sessions, x = \"item_id\")\n",
    "fig.show()"
   ]
  },
  {
   "cell_type": "markdown",
   "id": "1cf79d69",
   "metadata": {},
   "source": [
    "![im8](https://raw.githubusercontent.com/LucioBolatti/RecSys22-UB/gh-pages/Images/Image_dist_fulldata.png)"
   ]
  },
  {
   "cell_type": "markdown",
   "id": "9dd05a60",
   "metadata": {},
   "source": [
    "Resumen de la informacion para el conjunto de datos:\n",
    "\n",
    "| Conjunto de datos   | Filas   | # Columnas                      | Datos Faltantes |\n",
    "|---------------------|---------|-------------------------------|-----------------|\n",
    "| item_features       | 471751  | 3 (se tratan com categóricas) | 0%              |\n",
    "| train_purchases     | 1000000 | 3 (se tratan com categóricas) | 0%              |\n",
    "| test_final_sessions | 226138  | 3 (se tratan com categóricas) | 0%              |\n",
    "| train_sessions      | 4743820 | 3 (se tratan com categóricas) | 0%              |"
   ]
  }
 ],
 "metadata": {
  "kernelspec": {
   "display_name": "Python 3",
   "language": "python",
   "name": "python3"
  },
  "language_info": {
   "codemirror_mode": {
    "name": "ipython",
    "version": 3
   },
   "file_extension": ".py",
   "mimetype": "text/x-python",
   "name": "python",
   "nbconvert_exporter": "python",
   "pygments_lexer": "ipython3",
   "version": "3.8.8"
  }
 },
 "nbformat": 4,
 "nbformat_minor": 5
}
